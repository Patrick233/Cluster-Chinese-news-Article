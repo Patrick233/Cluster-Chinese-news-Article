{
 "cells": [
  {
   "cell_type": "code",
   "execution_count": 1,
   "metadata": {},
   "outputs": [],
   "source": [
    "import numpy as np\n",
    "from sklearn.cluster import KMeans"
   ]
  },
  {
   "cell_type": "code",
   "execution_count": 2,
   "metadata": {},
   "outputs": [],
   "source": [
    "data = np.loadtxt(\"../../data.txt\")"
   ]
  },
  {
   "cell_type": "code",
   "execution_count": 8,
   "metadata": {},
   "outputs": [
    {
     "data": {
      "text/plain": [
       "0.02625371627759532"
      ]
     },
     "execution_count": 8,
     "metadata": {},
     "output_type": "execute_result"
    }
   ],
   "source": [
    "data.shape"
   ]
  },
  {
   "cell_type": "code",
   "execution_count": 4,
   "metadata": {},
   "outputs": [],
   "source": [
    "distribution = [1883, 1499, 1945, 1623, 1945]\n",
    "for i in range(len(distribution)):\n",
    "    distribution[i] += distribution[i-1]"
   ]
  },
  {
   "cell_type": "code",
   "execution_count": 5,
   "metadata": {},
   "outputs": [],
   "source": [
    "def getGroup(x):\n",
    "    g = 0\n",
    "    for i in range(len(distribution)):\n",
    "        if x > distribution[i]:\n",
    "            g = i\n",
    "    return g"
   ]
  },
  {
   "cell_type": "code",
   "execution_count": 6,
   "metadata": {},
   "outputs": [
    {
     "name": "stdout",
     "output_type": "stream",
     "text": [
      "------Num of Clusters: 5-------\n",
      "------Weighted Purity: 0.6016260162601627-------\n",
      "------SSE: 85.10165201726988-------\n",
      "------Num of Clusters: 10-------\n",
      "------Weighted Purity: 0.6522131887985546-------\n",
      "------SSE: 84.18955851800973-------\n",
      "------Num of Clusters: 15-------\n",
      "------Weighted Purity: 0.7406278229448962-------\n",
      "------SSE: 83.32627835473319-------\n",
      "------Num of Clusters: 20-------\n",
      "------Weighted Purity: 0.7230126467931346-------\n",
      "------SSE: 82.5990861365929-------\n",
      "------Num of Clusters: 25-------\n",
      "------Weighted Purity: 0.6745709123757905-------\n",
      "------SSE: 81.70459856398081-------\n",
      "------Num of Clusters: 30-------\n",
      "------Weighted Purity: 0.7390469738030714-------\n",
      "------SSE: 81.1478894183049-------\n"
     ]
    }
   ],
   "source": [
    "n_clusters = [5, 10, 15, 20, 25, 30]\n",
    "for n in n_clusters:\n",
    "    kmeans = KMeans(n_clusters=n, random_state=34312, n_init=5, n_jobs=5).fit(data)\n",
    "    labels = kmeans.labels_\n",
    "    dic = {}\n",
    "    for i in range(n):\n",
    "        dic[i] = {}\n",
    "        for j in range(len(distribution)):\n",
    "            dic[i][j] = 0\n",
    "    for i in range(len(labels)):\n",
    "        g = getGroup(i)\n",
    "        dic[labels[i]][g] += 1\n",
    "    percents = {}\n",
    "    size = {}\n",
    "    for k in dic:\n",
    "        _max = 0\n",
    "        total = 0\n",
    "        for sk in dic[k]:\n",
    "            total += dic[k][sk]\n",
    "            _max = max(_max, dic[k][sk])\n",
    "        if total != 0:\n",
    "            percent = _max / total\n",
    "        else:\n",
    "            percent = -1\n",
    "        percents[k] = percent\n",
    "        size[k] = total\n",
    "    print(\"------Num of Clusters: {}-------\".format(n))\n",
    "    sum_weighted_purity = 0\n",
    "    for k in percents:\n",
    "        sum_weighted_purity += percents[k] * size[k]\n",
    "    weighted_purity = sum_weighted_purity / len(labels)\n",
    "    print(\"------Weighted Purity: {}-------\".format(weighted_purity))\n",
    "    print(\"------SSE: {}-------\".format(kmeans.inertia_))"
   ]
  },
  {
   "cell_type": "code",
   "execution_count": null,
   "metadata": {},
   "outputs": [],
   "source": []
  }
 ],
 "metadata": {
  "kernelspec": {
   "display_name": "Python 3",
   "language": "python",
   "name": "python3"
  },
  "language_info": {
   "codemirror_mode": {
    "name": "ipython",
    "version": 3
   },
   "file_extension": ".py",
   "mimetype": "text/x-python",
   "name": "python",
   "nbconvert_exporter": "python",
   "pygments_lexer": "ipython3",
   "version": "3.7.0"
  }
 },
 "nbformat": 4,
 "nbformat_minor": 2
}
